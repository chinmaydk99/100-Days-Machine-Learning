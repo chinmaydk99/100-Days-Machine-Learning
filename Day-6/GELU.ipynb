{
  "nbformat": 4,
  "nbformat_minor": 0,
  "metadata": {
    "colab": {
      "provenance": [],
      "machine_shape": "hm"
    },
    "kernelspec": {
      "name": "python3",
      "display_name": "Python 3"
    },
    "language_info": {
      "name": "python"
    }
  },
  "cells": [
    {
      "cell_type": "markdown",
      "source": [
        "### Numpy"
      ],
      "metadata": {
        "id": "kUmq5VH27MfV"
      }
    },
    {
      "cell_type": "code",
      "execution_count": 3,
      "metadata": {
        "id": "v_h462Ly6nlw"
      },
      "outputs": [],
      "source": [
        "import numpy as np"
      ]
    },
    {
      "cell_type": "code",
      "source": [
        "def gelu_numpy(x):\n",
        "  sqrt_2_pi = np.sqrt(2*np.pi)\n",
        "  return 0.5*x*(1 + np.tanh(sqrt_2_pi*(x+0.044715*(x**3))))"
      ],
      "metadata": {
        "id": "NkdA583P6r2P"
      },
      "execution_count": 7,
      "outputs": []
    },
    {
      "cell_type": "code",
      "source": [
        "x = np.linspace(-5, 5, 10)\n",
        "gelu_values = gelu_numpy(x)\n",
        "\n",
        "# Print results\n",
        "for i in range(len(x)):\n",
        "    print(f\"GELU({x[i]:.2f}) = {gelu_values[i]:.5f}\")"
      ],
      "metadata": {
        "colab": {
          "base_uri": "https://localhost:8080/"
        },
        "id": "ldHIDpCQ7kpx",
        "outputId": "1e6e46ae-f717-43c7-a55b-cca93d0cc821"
      },
      "execution_count": 8,
      "outputs": [
        {
          "output_type": "stream",
          "name": "stdout",
          "text": [
            "GELU(-5.00) = -0.00000\n",
            "GELU(-3.89) = -0.00000\n",
            "GELU(-2.78) = -0.00000\n",
            "GELU(-1.67) = -0.00014\n",
            "GELU(-0.56) = -0.03115\n",
            "GELU(0.56) = 0.52441\n",
            "GELU(1.67) = 1.66653\n",
            "GELU(2.78) = 2.77778\n",
            "GELU(3.89) = 3.88889\n",
            "GELU(5.00) = 5.00000\n"
          ]
        }
      ]
    },
    {
      "cell_type": "markdown",
      "source": [
        "### Pytorch"
      ],
      "metadata": {
        "id": "y5tbw_Wd7pYl"
      }
    },
    {
      "cell_type": "code",
      "source": [
        "import torch"
      ],
      "metadata": {
        "id": "1XJIIePe7trl"
      },
      "execution_count": 9,
      "outputs": []
    },
    {
      "cell_type": "code",
      "source": [
        "def gelu_torch(x):\n",
        "  sqrt_2_pi = torch.sqrt(torch.tensor(2.0*np.pi))\n",
        "  return 0.5*x*(1 + torch.tanh(sqrt_2_pi*(x+0.044715*(x**3))))"
      ],
      "metadata": {
        "id": "ZMsdAmm77k2Q"
      },
      "execution_count": 10,
      "outputs": []
    },
    {
      "cell_type": "code",
      "source": [
        "x = np.linspace(-5, 5, 10)\n",
        "x = torch.tensor(x, dtype=torch.float32)\n",
        "gelu_values = gelu_torch(x)\n",
        "\n",
        "# Print results\n",
        "for i in range(len(x)):\n",
        "    print(f\"GELU({x[i]:.2f}) = {gelu_values[i]:.5f}\")"
      ],
      "metadata": {
        "colab": {
          "base_uri": "https://localhost:8080/"
        },
        "id": "oqWL1je173lw",
        "outputId": "4f8814ec-f625-4a33-eefe-244a23461cb3"
      },
      "execution_count": 12,
      "outputs": [
        {
          "output_type": "stream",
          "name": "stdout",
          "text": [
            "GELU(-5.00) = -0.00000\n",
            "GELU(-3.89) = -0.00000\n",
            "GELU(-2.78) = -0.00000\n",
            "GELU(-1.67) = -0.00014\n",
            "GELU(-0.56) = -0.03115\n",
            "GELU(0.56) = 0.52441\n",
            "GELU(1.67) = 1.66653\n",
            "GELU(2.78) = 2.77778\n",
            "GELU(3.89) = 3.88889\n",
            "GELU(5.00) = 5.00000\n"
          ]
        }
      ]
    },
    {
      "cell_type": "code",
      "source": [],
      "metadata": {
        "id": "avhni65i76Fe"
      },
      "execution_count": null,
      "outputs": []
    }
  ]
}