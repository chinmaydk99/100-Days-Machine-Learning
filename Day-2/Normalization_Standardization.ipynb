{
 "cells": [
  {
   "cell_type": "code",
   "execution_count": 1,
   "metadata": {},
   "outputs": [],
   "source": [
    "import numpy as np"
   ]
  },
  {
   "cell_type": "code",
   "execution_count": null,
   "metadata": {},
   "outputs": [],
   "source": [
    "def feature_scaling(data):\n",
    "    # data is of form (num samples, num features)\n",
    "    # For standardiztion, mean and variance along the columns\n",
    "    data = np.array(data)\n",
    "    means = np.mean(data, axis = 0, keepdims= True)\n",
    "    std_dev = np.std(data, axis = 0,keepdims= True)\n",
    "    \n",
    "    standardized_data = (data-means) / (std_dev)\n",
    "\n",
    "    # Normalization\n",
    "    max_value = np.max(data, axis = 0, keepdims= True)\n",
    "    min_value = np.min(data, axis = 0, keepdims= True)\n",
    "    \n",
    "    normalized_data = (data - min_value)/ (max_value - min_value)\n",
    "\n",
    "\treturn standardized_data, normalized_data"
   ]
  },
  {
   "cell_type": "code",
   "execution_count": 22,
   "metadata": {},
   "outputs": [
    {
     "name": "stdout",
     "output_type": "stream",
     "text": [
      "[[0.  0. ]\n",
      " [0.5 0.5]\n",
      " [1.  1. ]]\n"
     ]
    }
   ],
   "source": [
    "feature_scaling([[1, 2], [3, 4], [5, 6]])"
   ]
  },
  {
   "cell_type": "code",
   "execution_count": null,
   "metadata": {},
   "outputs": [],
   "source": []
  }
 ],
 "metadata": {
  "kernelspec": {
   "display_name": "Python 3",
   "language": "python",
   "name": "python3"
  },
  "language_info": {
   "codemirror_mode": {
    "name": "ipython",
    "version": 3
   },
   "file_extension": ".py",
   "mimetype": "text/x-python",
   "name": "python",
   "nbconvert_exporter": "python",
   "pygments_lexer": "ipython3",
   "version": "3.12.5"
  }
 },
 "nbformat": 4,
 "nbformat_minor": 2
}
