{
 "cells": [
  {
   "cell_type": "code",
   "execution_count": null,
   "metadata": {},
   "outputs": [],
   "source": [
    "import numpy as np\n",
    "\n",
    "def shuffle_data(X, y, seed=None):\n",
    "\t# Set Seed\n",
    "\tif seed is not None:\n",
    "\t\tnp.random.seed(seed)\n",
    "\n",
    "\t# generate an array of indices corresponding to number of samples\n",
    "\tnum_samples = X.shape[0]\n",
    "\tindices = np.arange(num_samples)\n",
    "\n",
    "\t# Shuffle the indices\n",
    "\tnp.random.shuffle(indices)\n",
    "\n",
    "\t# Reorder the dataset\n",
    "\tX_shuffled = X[indices]\n",
    "\ty_shuffled = y[indices]\n",
    "\n",
    "\treturn X_shuffled, y_shuffled"
   ]
  }
 ],
 "metadata": {
  "kernelspec": {
   "display_name": "Python 3",
   "language": "python",
   "name": "python3"
  },
  "language_info": {
   "name": "python",
   "version": "3.12.5"
  }
 },
 "nbformat": 4,
 "nbformat_minor": 2
}
