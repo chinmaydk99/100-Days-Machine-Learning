{
 "cells": [
  {
   "cell_type": "code",
   "execution_count": 12,
   "metadata": {},
   "outputs": [],
   "source": [
    "from collections import defaultdict\n",
    "import numpy as np\n",
    "\n",
    "def euclidean_distance(p1,p2):\n",
    "\treturn np.sqrt(sum((x-y)**2 for x,y in zip(p1, p2)))"
   ]
  },
  {
   "cell_type": "code",
   "execution_count": 13,
   "metadata": {},
   "outputs": [],
   "source": [
    "def assign_clusters(points, centroids, clusters):\n",
    "\tclusters.clear()\n",
    "\t\n",
    "\tfor point in points:\n",
    "\t\tmin_dist = float(\"inf\")\n",
    "\t\tcluster = 0\n",
    "\t\tfor i in range(len(centroids)):\n",
    "\t\t\tdist = euclidean_distance(point, centroids[i])\n",
    "\t\t\tif dist < min_dist:\n",
    "\t\t\t\tmin_dist = dist\n",
    "\t\t\t\tcluster = i\n",
    "\n",
    "\t\tclusters[cluster].append(point)"
   ]
  },
  {
   "cell_type": "code",
   "execution_count": 14,
   "metadata": {},
   "outputs": [],
   "source": [
    "def update_centroids(clusters, k):\n",
    "\tnew_centroids = []\n",
    "\t\n",
    "\tfor i in range(k):\n",
    "\t\tif clusters[i]:\n",
    "\t\t\tnew_centroid = tuple(np.mean(clusters[i], axis = 0))\n",
    "\t\telse:\n",
    "\t\t\tnew_centroid = (0,0)\n",
    "\t\t\n",
    "\t\tnew_centroids.append(new_centroid)\n",
    "\n",
    "\treturn new_centroids"
   ]
  },
  {
   "cell_type": "code",
   "execution_count": 15,
   "metadata": {},
   "outputs": [],
   "source": [
    "def k_means_clustering(points: list[tuple[float, float]], k: int, initial_centroids: list[tuple[float, float]], max_iterations: int) -> list[tuple[float, float]]:\n",
    "\tclusters = defaultdict(list)\n",
    "\tcentroids = initial_centroids\n",
    "\n",
    "\tfor i in range(max_iterations):\n",
    "\t\tassign_clusters(points, centroids, clusters)\n",
    "\n",
    "\t\tnew_centroids = update_centroids(clusters, k)\n",
    "\n",
    "\t\tcentroids = new_centroids\n",
    "\t\n",
    "\treturn centroids"
   ]
  },
  {
   "cell_type": "code",
   "execution_count": null,
   "metadata": {},
   "outputs": [],
   "source": []
  }
 ],
 "metadata": {
  "kernelspec": {
   "display_name": "Python 3",
   "language": "python",
   "name": "python3"
  },
  "language_info": {
   "codemirror_mode": {
    "name": "ipython",
    "version": 3
   },
   "file_extension": ".py",
   "mimetype": "text/x-python",
   "name": "python",
   "nbconvert_exporter": "python",
   "pygments_lexer": "ipython3",
   "version": "3.12.5"
  }
 },
 "nbformat": 4,
 "nbformat_minor": 2
}
