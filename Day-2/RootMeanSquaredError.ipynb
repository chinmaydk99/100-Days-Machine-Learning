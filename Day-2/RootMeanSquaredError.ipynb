{
 "cells": [
  {
   "cell_type": "code",
   "execution_count": null,
   "metadata": {},
   "outputs": [],
   "source": [
    "import numpy as np\n",
    "\n",
    "def rmse(y_true, y_pred):\n",
    "\tif y_true.shape[0] != y_pred.shape[0] or y_true.size == 0:\n",
    "\t\treturn None\n",
    "\t\t\n",
    "\tif not isinstance(y_true, np.ndarray) or not isinstance(y_pred, np.ndarray):\n",
    "\t\treturn None\n",
    "\t\t\n",
    "\tmean_squared_error = np.mean((y_pred-y_true)**2)\n",
    "\trmse_res = np.sqrt(mean_squared_error)\n",
    "\t\n",
    "\treturn round(float(rmse_res),3)"
   ]
  },
  {
   "cell_type": "code",
   "execution_count": null,
   "metadata": {},
   "outputs": [],
   "source": []
  }
 ],
 "metadata": {
  "kernelspec": {
   "display_name": "Python 3",
   "language": "python",
   "name": "python3"
  },
  "language_info": {
   "name": "python",
   "version": "3.12.5"
  }
 },
 "nbformat": 4,
 "nbformat_minor": 2
}
