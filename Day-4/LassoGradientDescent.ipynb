{
 "cells": [
  {
   "cell_type": "code",
   "execution_count": 2,
   "metadata": {},
   "outputs": [],
   "source": [
    "import numpy as np"
   ]
  },
  {
   "cell_type": "code",
   "execution_count": null,
   "metadata": {},
   "outputs": [],
   "source": [
    "import numpy as np\n",
    "\n",
    "def l1_regularization_gradient_descent(X: np.array, y: np.array, alpha: float = 0.1, learning_rate: float = 0.01, max_iter: int = 1000, tol: float = 1e-4) -> tuple:\n",
    "\tn_samples, n_features = X.shape\n",
    "\n",
    "\tweights = np.zeros((n_features,1))\n",
    "\ty = y.reshape(-1,1)\n",
    "\tbias = 0\n",
    "\n",
    "\tfor iter in range(max_iter):\n",
    "\t\ty_pred = X @ weights + bias\n",
    "\t\terror = (y_pred - y)\n",
    "\n",
    "\t\tdW = (1/X.shape[0]) * X.T @ error + alpha * np.sign(weights)\n",
    "\t\tdB = (1/X.shape[0]) * (np.sum(error))\n",
    "\n",
    "\t\tweights = weights - learning_rate * dW\n",
    "\t\tbias = bias - learning_rate * dB\n",
    "\t\t\n",
    "\t\tif np.linalg.norm(dW, ord=1) < tol:\n",
    "\t\t\tbreak\n",
    "\n",
    "\n",
    "\treturn weights.flatten(), bias\n"
   ]
  },
  {
   "cell_type": "code",
   "execution_count": 26,
   "metadata": {},
   "outputs": [
    {
     "data": {
      "text/plain": [
       "(array([[1.9],\n",
       "        [1.9]]),\n",
       " np.float64(0.30000000000000004))"
      ]
     },
     "execution_count": 26,
     "metadata": {},
     "output_type": "execute_result"
    }
   ],
   "source": [
    "X = np.array([[0, 1], [1, 2], [2, 3], [3, 4], [4, 5]]) \n",
    "y = np.array([1, 2, 3, 4, 5]) \n",
    "alpha = 0.1 \n",
    "l1_regularization_gradient_descent(X, y, alpha=alpha, learning_rate=0.01, max_iter=1000)"
   ]
  },
  {
   "cell_type": "code",
   "execution_count": null,
   "metadata": {},
   "outputs": [],
   "source": []
  }
 ],
 "metadata": {
  "kernelspec": {
   "display_name": "Python 3",
   "language": "python",
   "name": "python3"
  },
  "language_info": {
   "codemirror_mode": {
    "name": "ipython",
    "version": 3
   },
   "file_extension": ".py",
   "mimetype": "text/x-python",
   "name": "python",
   "nbconvert_exporter": "python",
   "pygments_lexer": "ipython3",
   "version": "3.12.5"
  }
 },
 "nbformat": 4,
 "nbformat_minor": 2
}
