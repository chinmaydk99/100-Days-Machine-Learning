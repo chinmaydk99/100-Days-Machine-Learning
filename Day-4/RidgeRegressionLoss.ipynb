{
 "cells": [
  {
   "cell_type": "code",
   "execution_count": null,
   "metadata": {},
   "outputs": [],
   "source": [
    "import numpy as np\n",
    "\n",
    "def ridge_loss(X: np.ndarray, w: np.ndarray, y_true: np.ndarray, alpha: float) -> float:\n",
    "\ty_true = y_true.reshape(-1,1)\n",
    "\tw = w.reshape(-1,1)\n",
    "\n",
    "\ty_pred = X @ w\n",
    "\n",
    "\terrors = (y_pred - y_true)\n",
    "\t\n",
    "\tMSE = (1/X.shape[0]) * np.sum(errors ** 2)\n",
    "\n",
    "\tloss = MSE + alpha * np.sum(w**2)\n",
    "\n",
    "\treturn round(loss,3)"
   ]
  }
 ],
 "metadata": {
  "kernelspec": {
   "display_name": "Python 3",
   "language": "python",
   "name": "python3"
  },
  "language_info": {
   "name": "python",
   "version": "3.12.5"
  }
 },
 "nbformat": 4,
 "nbformat_minor": 2
}
