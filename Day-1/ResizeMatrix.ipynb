{
 "cells": [
  {
   "cell_type": "code",
   "execution_count": null,
   "metadata": {},
   "outputs": [],
   "source": [
    "import numpy as np\n",
    "\n",
    "def reshape_matrix(a: list[list[int|float]], new_shape: tuple[int, int]) -> list[list[int|float]]:\n",
    "\tm,n = len(a), len(a[0])\n",
    "\tm1, n1 = new_shape\n",
    "\n",
    "\tif (m,n) != new_shape:\n",
    "\t\treturn []\n",
    "\n",
    "\treshaped_matrix = np.zeros(new_shape) \n",
    "\tflattened = [ele for row in a for ele in row]\n",
    "\n",
    "\tk = 0\n",
    "\tfor i in range(m1):\n",
    "\t\tfor j in range(n1):\n",
    "\t\t\treshaped_matrix[i][j] = flattened[k]\n",
    "\t\t\tk += 1\n",
    "\n",
    "\treturn reshaped_matrix.tolist()"
   ]
  },
  {
   "cell_type": "code",
   "execution_count": null,
   "metadata": {},
   "outputs": [],
   "source": []
  }
 ],
 "metadata": {
  "kernelspec": {
   "display_name": "Python 3",
   "language": "python",
   "name": "python3"
  },
  "language_info": {
   "codemirror_mode": {
    "name": "ipython",
    "version": 3
   },
   "file_extension": ".py",
   "mimetype": "text/x-python",
   "name": "python",
   "nbconvert_exporter": "python",
   "pygments_lexer": "ipython3",
   "version": "3.12.5"
  }
 },
 "nbformat": 4,
 "nbformat_minor": 2
}
