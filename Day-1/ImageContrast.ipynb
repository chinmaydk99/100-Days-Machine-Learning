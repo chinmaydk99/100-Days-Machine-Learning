{
 "cells": [
  {
   "cell_type": "code",
   "execution_count": null,
   "metadata": {},
   "outputs": [],
   "source": [
    "import numpy as np\n",
    "\n",
    "def calculate_contrast(img) -> int:\n",
    "\t\"\"\"\n",
    "\tCalculate the contrast of a grayscale image.\n",
    "\tArgs:\n",
    "\t\timg (numpy.ndarray): 2D array representing a grayscale image with pixel values between 0 and 255.\n",
    "\t\"\"\"\n",
    "\tmax_pixel = np.max(img)\n",
    "\tmin_pixel = np.min(img)\n",
    "\n",
    "\treturn max_pixel - min_pixel"
   ]
  },
  {
   "cell_type": "code",
   "execution_count": null,
   "metadata": {},
   "outputs": [],
   "source": []
  }
 ],
 "metadata": {
  "kernelspec": {
   "display_name": "Python 3",
   "language": "python",
   "name": "python3"
  },
  "language_info": {
   "name": "python",
   "version": "3.12.5"
  }
 },
 "nbformat": 4,
 "nbformat_minor": 2
}
