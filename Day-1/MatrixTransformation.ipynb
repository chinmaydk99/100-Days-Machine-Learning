{
 "cells": [
  {
   "cell_type": "markdown",
   "metadata": {},
   "source": [
    "Write a Python function that transforms a given matrix A using the operation T−1AST−1AS, where T and S are invertible matrices. The function should first validate if the matrices T and S are invertible, and then perform the transformation. In cases where there is no solution return -1"
   ]
  },
  {
   "cell_type": "code",
   "execution_count": null,
   "metadata": {},
   "outputs": [],
   "source": [
    "import numpy as np\n",
    "\n",
    "def transform_matrix(A: list[list[int|float]], T: list[list[int|float]], S: list[list[int|float]]) -> list[list[int|float]]:\n",
    "\tA, T, S = np.array(A), np.array(T), np.array(S)\n",
    "\n",
    "\tif np.linalg.det(T) == 0 or np.linalg.det(S) == 0:\n",
    "\t\treturn -1\n",
    "\n",
    "\tT_inv = np.linalg.inv(T)\n",
    "\t\n",
    "\tif T_inv.shape[1] != A.shape[0] or A.shape[1] != S.shape[0]:\n",
    "\t\treturn -1\n",
    "\n",
    "\ttransformed_matrix = np.round((T_inv @ A) @ S)\n",
    "\n",
    "\treturn transformed_matrix.tolist()"
   ]
  },
  {
   "cell_type": "code",
   "execution_count": null,
   "metadata": {},
   "outputs": [],
   "source": []
  }
 ],
 "metadata": {
  "kernelspec": {
   "display_name": "Python 3",
   "language": "python",
   "name": "python3"
  },
  "language_info": {
   "name": "python",
   "version": "3.12.5"
  }
 },
 "nbformat": 4,
 "nbformat_minor": 2
}
