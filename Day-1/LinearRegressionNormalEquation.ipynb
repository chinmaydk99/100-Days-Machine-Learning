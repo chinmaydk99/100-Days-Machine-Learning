{
 "cells": [
  {
   "cell_type": "code",
   "execution_count": null,
   "metadata": {},
   "outputs": [],
   "source": [
    "import numpy as np\n",
    "def linear_regression_normal_equation(X: list[list[float]], y: list[float]) -> list[float]:\n",
    "\tX, y = np.array(X), np.array(y)\n",
    "\tintercept = np.ones((X.shape[0],1))\n",
    "\n",
    "\tX_aug = np.hstack([intercept, X])\n",
    "\n",
    "\tXTX = X_aug.T @ X_aug\n",
    "\n",
    "\tif np.linalg.det(XTX) == 0:\n",
    "\t\ttheta = np.linalg.pinv(XTX) @ X_aug.T @ y\n",
    "\telse:\n",
    "\t\ttheta = np.linalg.inv(XTX) @ X_aug.T @ y\n",
    "\n",
    "\treturn [round(ele,4) for ele in theta.tolist()]"
   ]
  },
  {
   "cell_type": "markdown",
   "metadata": {},
   "source": [
    "### Without augmenting intercept"
   ]
  },
  {
   "cell_type": "code",
   "execution_count": null,
   "metadata": {},
   "outputs": [],
   "source": [
    "import numpy as np\n",
    "def linear_regression_normal_equation(X: list[list[float]], y: list[float]) -> list[float]:\n",
    "\tX, y = np.array(X), np.array(y).reshape(-1,1)\n",
    "\tintercept = np.ones((X.shape[0],1))\n",
    "\n",
    "\tXTX = X.T @ X\n",
    "\n",
    "\tif np.linalg.det(XTX) == 0:\n",
    "\t\ttheta = np.linalg.pinv(XTX) @ X.T @ y\n",
    "\telse:\n",
    "\t\ttheta = np.linalg.inv(XTX) @ X.T @ y\n",
    "\n",
    "\treturn [round(ele,4) for ele in theta.tolist()]"
   ]
  }
 ],
 "metadata": {
  "kernelspec": {
   "display_name": "Python 3",
   "language": "python",
   "name": "python3"
  },
  "language_info": {
   "name": "python",
   "version": "3.12.5"
  }
 },
 "nbformat": 4,
 "nbformat_minor": 2
}
