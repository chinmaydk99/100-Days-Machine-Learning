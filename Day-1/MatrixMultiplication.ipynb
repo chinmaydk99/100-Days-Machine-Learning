{
 "cells": [
  {
   "cell_type": "code",
   "execution_count": null,
   "metadata": {},
   "outputs": [],
   "source": [
    "import numpy as np\n",
    "def matrixmul(a:list[list[int|float]],\n",
    "              b:list[list[int|float]])-> list[list[int|float]]:\n",
    "\tm1, n1 = len(a), len(a[0])\n",
    "\tm2, n2 = len(b), len(a[1])\n",
    "\n",
    "\ta,b = np.array(a), np.array(b)\n",
    "\n",
    "\n",
    "\tif n1 != m2:\n",
    "\t\treturn -1\n",
    "\t\n",
    "\tc = np.zeros((m1,n2))\n",
    "\tc = a @ b\n",
    "\t\n",
    "\treturn c.tolist()"
   ]
  },
  {
   "cell_type": "markdown",
   "metadata": {},
   "source": [
    "### Without Numpy"
   ]
  },
  {
   "cell_type": "code",
   "execution_count": 1,
   "metadata": {},
   "outputs": [],
   "source": [
    "import numpy as np\n",
    "def matrixmul(a:list[list[int|float]],\n",
    "              b:list[list[int|float]])-> list[list[int|float]]:\n",
    "\tm1, n1 = len(a), len(a[0])\n",
    "\tm2, n2 = len(b), len(a[1])\n",
    "\tif n1 != m2:\n",
    "\t\treturn -1\n",
    "\t\n",
    "\tc = [[0 for _ in range(n2)] for _ in range(m1)]\n",
    "\n",
    "\tfor i in range(m1):\n",
    "\t\tfor j in range(n2):\n",
    "\t\t\tfor k in range(n1):\n",
    "\t\t\t\tc[i][j] += a[i][k] * b[k][j]\n",
    "\t\n",
    "\n",
    "\treturn c"
   ]
  },
  {
   "cell_type": "code",
   "execution_count": null,
   "metadata": {},
   "outputs": [],
   "source": []
  }
 ],
 "metadata": {
  "kernelspec": {
   "display_name": "Python 3",
   "language": "python",
   "name": "python3"
  },
  "language_info": {
   "codemirror_mode": {
    "name": "ipython",
    "version": 3
   },
   "file_extension": ".py",
   "mimetype": "text/x-python",
   "name": "python",
   "nbconvert_exporter": "python",
   "pygments_lexer": "ipython3",
   "version": "3.12.5"
  }
 },
 "nbformat": 4,
 "nbformat_minor": 2
}
