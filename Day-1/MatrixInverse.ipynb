{
 "cells": [
  {
   "cell_type": "code",
   "execution_count": null,
   "metadata": {},
   "outputs": [],
   "source": [
    "import numpy as np\n",
    "def inverse_2x2(matrix: list[list[float]]) -> list[list[float]]:\n",
    "\ta, b, c, d = matrix[0][0], matrix[0][1], matrix[1][0], matrix[1][1]\n",
    "\n",
    "\tdeterminant = a*d - b*c\n",
    "\n",
    "\tif determinant == 0:\n",
    "\t\treturn None\n",
    "\t\n",
    "\tinverse = np.array([[d, -b],[-c,a]], dtype = np.float64)\n",
    "\tinverse /= determinant\n",
    "\n",
    "\treturn inverse.tolist()"
   ]
  },
  {
   "cell_type": "code",
   "execution_count": null,
   "metadata": {},
   "outputs": [],
   "source": []
  }
 ],
 "metadata": {
  "kernelspec": {
   "display_name": "Python 3",
   "language": "python",
   "name": "python3"
  },
  "language_info": {
   "name": "python",
   "version": "3.12.5"
  }
 },
 "nbformat": 4,
 "nbformat_minor": 2
}
