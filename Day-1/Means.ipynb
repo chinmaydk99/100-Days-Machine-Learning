{
 "cells": [
  {
   "cell_type": "code",
   "execution_count": null,
   "metadata": {},
   "outputs": [],
   "source": [
    "import numpy as np\n",
    "def calculate_matrix_mean(matrix: list[list[float]], mode: str) -> list[float]:\n",
    "\tif mode == 'row':\n",
    "\t\tmeans = [sum(row)/len(row) for row in matrix]\n",
    "\t\n",
    "\tif mode == \"column\":\n",
    "\t\tmeans = [sum(col)/len(col) for col in zip(*matrix)]\n",
    "\n",
    "\treturn means"
   ]
  },
  {
   "cell_type": "code",
   "execution_count": null,
   "metadata": {},
   "outputs": [],
   "source": []
  }
 ],
 "metadata": {
  "kernelspec": {
   "display_name": "Python 3",
   "language": "python",
   "name": "python3"
  },
  "language_info": {
   "name": "python",
   "version": "3.12.5"
  }
 },
 "nbformat": 4,
 "nbformat_minor": 2
}
