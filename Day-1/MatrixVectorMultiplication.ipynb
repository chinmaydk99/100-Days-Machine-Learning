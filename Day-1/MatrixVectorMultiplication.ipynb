{
 "cells": [
  {
   "cell_type": "code",
   "execution_count": null,
   "metadata": {},
   "outputs": [],
   "source": [
    "import numpy as np\n",
    "def matrix_dot_vector(a, b)\n",
    "\tm ,n = len(a), len(a[0])\n",
    "\tc = np.zeros(m)\n",
    "\t\n",
    "\tif n != len(b):\n",
    "\t\treturn -1\n",
    "\n",
    "\tfor i in range(m):\n",
    "\t\tfor j in range(n):\n",
    "\t\t\tc[i] += a[i][j] * b[j]\n",
    "\n",
    "\treturn c.tolist()"
   ]
  },
  {
   "cell_type": "code",
   "execution_count": null,
   "metadata": {},
   "outputs": [],
   "source": []
  }
 ],
 "metadata": {
  "kernelspec": {
   "display_name": "Python 3",
   "language": "python",
   "name": "python3"
  },
  "language_info": {
   "name": "python",
   "version": "3.12.5"
  }
 },
 "nbformat": 4,
 "nbformat_minor": 2
}
