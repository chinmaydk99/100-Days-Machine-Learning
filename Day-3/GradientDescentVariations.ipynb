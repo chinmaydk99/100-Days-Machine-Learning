{
 "cells": [
  {
   "cell_type": "code",
   "execution_count": null,
   "metadata": {},
   "outputs": [],
   "source": [
    "import numpy as np\n",
    "\n",
    "def batch_gd(X,y, weights, learning_rate, n_iterations):\n",
    "\tfor i in range(n_iterations):\n",
    "\t\ty_pred = X @ weights\n",
    "\t\terrors = y_pred - y\n",
    "\t\tgradient = (2/X.shape[0])* (X.T @ errors)\n",
    "\n",
    "\t\tweights -= learning_rate * gradient\n",
    "\t\n",
    "\treturn weights"
   ]
  },
  {
   "cell_type": "code",
   "execution_count": 1,
   "metadata": {},
   "outputs": [],
   "source": [
    "def stochastic_gd(X,y, weights, learning_rate, n_iterations):\n",
    "\tfor i in range(n_iterations):\n",
    "\t\tfor j in range(X.shape[0]):\n",
    "\t\t\ty_pred = np.dot(X[j],weights)\n",
    "\t\t\terror = y_pred - y[j]\n",
    "\t\t\tgradient = 2*X[j].reshape(-1,1)*error\n",
    "\n",
    "\t\t\tweights -= learning_rate * gradient\n",
    "\t\n",
    "\treturn weights"
   ]
  },
  {
   "cell_type": "code",
   "execution_count": 2,
   "metadata": {},
   "outputs": [],
   "source": [
    "def mini_batch_gd(X, y, weights, learning_rate, n_iterations, batch_size=1):\n",
    "\tfor i in range(n_iterations):\n",
    "\t\tfor j in range(0, X.shape[0], batch_size):\n",
    "\t\t\tX_batch, y_batch = X[j:j+batch_size], y[j:j+batch_size]\n",
    "\t\t\ty_pred = X_batch @ weights\n",
    "\t\t\terrors = y_pred - y_batch\n",
    "\t\t\tgradient = (2/batch_size)* (X_batch.T @ errors)\n",
    "\n",
    "\t\t\tweights -= learning_rate * gradient\n",
    "\t\n",
    "\treturn weights\n"
   ]
  },
  {
   "cell_type": "code",
   "execution_count": null,
   "metadata": {},
   "outputs": [],
   "source": [
    "def gradient_descent(X, y, weights, learning_rate, n_iterations, batch_size=1, method='batch'):\n",
    "\tweights = weights.reshape(-1,1)\n",
    "\ty = y.reshape(-1,1)\n",
    "\n",
    "\tif method == 'batch':\n",
    "\t\tweights = batch_gd(X,y, weights, learning_rate, n_iterations)\n",
    "\t\n",
    "\telif method == 'stochastic':\n",
    "\t\tweights = stochastic_gd(X,y, weights, learning_rate, n_iterations)\n",
    "\n",
    "\n",
    "\telif method == 'mini_batch':\n",
    "\t\tweights = mini_batch_gd(X, y, weights, learning_rate, n_iterations, batch_size)\n",
    "\t\n",
    "\treturn weights.ravel()"
   ]
  }
 ],
 "metadata": {
  "kernelspec": {
   "display_name": "Python 3",
   "language": "python",
   "name": "python3"
  },
  "language_info": {
   "codemirror_mode": {
    "name": "ipython",
    "version": 3
   },
   "file_extension": ".py",
   "mimetype": "text/x-python",
   "name": "python",
   "nbconvert_exporter": "python",
   "pygments_lexer": "ipython3",
   "version": "3.12.5"
  }
 },
 "nbformat": 4,
 "nbformat_minor": 2
}
