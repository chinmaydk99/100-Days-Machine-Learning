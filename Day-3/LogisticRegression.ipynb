{
 "cells": [
  {
   "cell_type": "code",
   "execution_count": 11,
   "metadata": {},
   "outputs": [],
   "source": [
    "import numpy as np\n",
    "\n",
    "def sigmoid(x):\n",
    "\tx = np.clip(x, -500, 500) #For numerical stability\n",
    "\n",
    "\treturn 1 / (1+np.exp(-x))"
   ]
  },
  {
   "cell_type": "code",
   "execution_count": null,
   "metadata": {},
   "outputs": [],
   "source": [
    "import numpy as np\n",
    "\n",
    "def sigmoid(x):\n",
    "\tx = np.clip(x, -500, 500) #For numerical stability\n",
    "\n",
    "\treturn 1 / (1+np.exp(-x))\n",
    "\n",
    "def predict_logistic(X: np.ndarray, weights: np.ndarray, bias: float) -> np.ndarray:\n",
    "\t\"\"\"\n",
    "\tImplements binary classification prediction using Logistic Regression.\n",
    "\n",
    "\tArgs:\n",
    "\t\tX: Input feature matrix (shape: N x D)\n",
    "\t\tweights: Model weights (shape: D)\n",
    "\t\tbias: Model bias\n",
    "\n",
    "\tReturns:\n",
    "\t\tBinary predictions (0 or 1)\n",
    "\t\"\"\"\n",
    "\tweights = np.array(weights).reshape(-1,1)\n",
    "\n",
    "\ty_pred = X @ weights + bias\n",
    "\n",
    "\tprobs = sigmoid(np.array(y_pred))\n",
    "\n",
    "\treturn (probs >= 0.5).astype(int)"
   ]
  },
  {
   "cell_type": "code",
   "execution_count": null,
   "metadata": {},
   "outputs": [],
   "source": []
  }
 ],
 "metadata": {
  "kernelspec": {
   "display_name": "Python 3",
   "language": "python",
   "name": "python3"
  },
  "language_info": {
   "codemirror_mode": {
    "name": "ipython",
    "version": 3
   },
   "file_extension": ".py",
   "mimetype": "text/x-python",
   "name": "python",
   "nbconvert_exporter": "python",
   "pygments_lexer": "ipython3",
   "version": "3.12.5"
  }
 },
 "nbformat": 4,
 "nbformat_minor": 2
}
