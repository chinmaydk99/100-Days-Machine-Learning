{
 "cells": [
  {
   "attachments": {
    "image.png": {
     "image/png": "[encoded data removed]"
    }
   },
   "cell_type": "markdown",
   "metadata": {},
   "source": [
    "![image.png](attachment:image.png)"
   ]
  },
  {
   "cell_type": "code",
   "execution_count": 1,
   "metadata": {},
   "outputs": [],
   "source": [
    "import numpy as np\n",
    "\n",
    "def jaccard_index(y_true, y_pred):\n",
    "\tn = len(y_true)\n",
    "\n",
    "\tcombined = list(zip(y_true.tolist(), y_pred.tolist()))\n",
    "\tzero_count = combined.count((0,0))\n",
    "\n",
    "\tif zero_count == n:\n",
    "\t\treturn 0\n",
    "\t\n",
    "\tresult = combined.count((1,1))/ (n-zero_count)\n",
    "\n",
    "\treturn round(result, 3)\n"
   ]
  },
  {
   "cell_type": "code",
   "execution_count": null,
   "metadata": {},
   "outputs": [],
   "source": [
    "def jaccard_index(y_true, y_pred):\n",
    "\tintersection = np.sum((y_true == 1) & (y_pred == 1))\n",
    "\tunion = np.sum((y_true == 1) | (y_pred == 1))\n",
    "\n",
    "\tresult = intersection / union\n",
    "\n",
    "\tif np.isnan(result):\n",
    "\t\treturn 0.0\n",
    "\t\n",
    "\treturn round(result, 3)"
   ]
  }
 ],
 "metadata": {
  "kernelspec": {
   "display_name": "Python 3",
   "language": "python",
   "name": "python3"
  },
  "language_info": {
   "codemirror_mode": {
    "name": "ipython",
    "version": 3
   },
   "file_extension": ".py",
   "mimetype": "text/x-python",
   "name": "python",
   "nbconvert_exporter": "python",
   "pygments_lexer": "ipython3",
   "version": "3.12.5"
  }
 },
 "nbformat": 4,
 "nbformat_minor": 2
}
