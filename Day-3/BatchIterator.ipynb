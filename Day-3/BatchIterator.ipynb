{
 "cells": [
  {
   "cell_type": "code",
   "execution_count": 22,
   "metadata": {},
   "outputs": [],
   "source": [
    "import numpy as np\n",
    "\n",
    "def batch_iterator(X, y=None, batch_size=64):\n",
    "\tnum_samples = X.shape[0]\n",
    "\tres = []\n",
    "\n",
    "\tfor i in range(0, num_samples, batch_size):\n",
    "\n",
    "\t\tif y is not None:\n",
    "\t\t\tres.append([X[i:i+batch_size], y[i:i+batch_size]])\n",
    "\t\telse:\n",
    "\t\t\tres.append(X[i:i+batch_size])\n",
    "\t\n",
    "\treturn res"
   ]
  },
  {
   "cell_type": "markdown",
   "metadata": {},
   "source": [
    "### Creating Generator"
   ]
  },
  {
   "cell_type": "code",
   "execution_count": null,
   "metadata": {},
   "outputs": [],
   "source": [
    "import numpy as np\n",
    "\n",
    "def batch_iterator(X, y=None, batch_size=64):\n",
    "    num_samples = X.shape[0]\n",
    "    res = []\n",
    "    \n",
    "    for i in range(0, num_samples, batch_size):\n",
    "        if y is not None:\n",
    "            yield X[i:i+batch_size], y[i:i+batch_size]\n",
    "        else:\n",
    "            yield X[i: i+batch_size]"
   ]
  },
  {
   "cell_type": "code",
   "execution_count": null,
   "metadata": {},
   "outputs": [],
   "source": []
  }
 ],
 "metadata": {
  "kernelspec": {
   "display_name": "Python 3",
   "language": "python",
   "name": "python3"
  },
  "language_info": {
   "codemirror_mode": {
    "name": "ipython",
    "version": 3
   },
   "file_extension": ".py",
   "mimetype": "text/x-python",
   "name": "python",
   "nbconvert_exporter": "python",
   "pygments_lexer": "ipython3",
   "version": "3.12.5"
  }
 },
 "nbformat": 4,
 "nbformat_minor": 2
}
